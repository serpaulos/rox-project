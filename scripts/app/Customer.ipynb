{
 "cells": [
  {
   "cell_type": "code",
   "execution_count": 1,
   "id": "d27c43f0",
   "metadata": {},
   "outputs": [],
   "source": [
    "import pandas as pd"
   ]
  },
  {
   "cell_type": "code",
   "execution_count": 64,
   "id": "a8c7f87a",
   "metadata": {},
   "outputs": [],
   "source": [
    "#gravando arquivo em um dataframe\n",
    "customer = pd.read_csv('dados_originais/Sales.Customer.csv',sep=';')"
   ]
  },
  {
   "cell_type": "code",
   "execution_count": 59,
   "id": "2fa2ec10",
   "metadata": {},
   "outputs": [
    {
     "data": {
      "text/plain": [
       "CustomerID         int64\n",
       "PersonID         float64\n",
       "StoreID          float64\n",
       "TerritoryID        int64\n",
       "AccountNumber     object\n",
       "rowguid           object\n",
       "ModifiedDate      object\n",
       "dtype: object"
      ]
     },
     "execution_count": 59,
     "metadata": {},
     "output_type": "execute_result"
    }
   ],
   "source": [
    "#verificando os tipos de dados\n",
    "customer.dtypes"
   ]
  },
  {
   "cell_type": "code",
   "execution_count": 60,
   "id": "108d5452",
   "metadata": {},
   "outputs": [
    {
     "data": {
      "text/plain": [
       "(19820, 7)"
      ]
     },
     "execution_count": 60,
     "metadata": {},
     "output_type": "execute_result"
    }
   ],
   "source": [
    "#quantidade de linhas e colunas\n",
    "customer.shape"
   ]
  },
  {
   "cell_type": "code",
   "execution_count": 65,
   "id": "6296c1e0",
   "metadata": {},
   "outputs": [
    {
     "data": {
      "text/plain": [
       "CustomerID           0\n",
       "PersonID           701\n",
       "StoreID          18484\n",
       "TerritoryID          0\n",
       "AccountNumber        0\n",
       "rowguid              0\n",
       "ModifiedDate         0\n",
       "dtype: int64"
      ]
     },
     "execution_count": 65,
     "metadata": {},
     "output_type": "execute_result"
    }
   ],
   "source": [
    "#Verificando se ha valores nan\n",
    "customer.isna().sum()"
   ]
  },
  {
   "cell_type": "code",
   "execution_count": 66,
   "id": "353cd34f",
   "metadata": {},
   "outputs": [
    {
     "data": {
      "text/plain": [
       "CustomerID           0\n",
       "PersonID           701\n",
       "StoreID          18484\n",
       "TerritoryID          0\n",
       "AccountNumber        0\n",
       "rowguid              0\n",
       "ModifiedDate         0\n",
       "dtype: int64"
      ]
     },
     "execution_count": 66,
     "metadata": {},
     "output_type": "execute_result"
    }
   ],
   "source": [
    "#Verificando se ha valores nulos\n",
    "customer.isnull().sum()"
   ]
  },
  {
   "cell_type": "code",
   "execution_count": 72,
   "id": "4889292f",
   "metadata": {},
   "outputs": [],
   "source": [
    "#deletando linhas com valores NaN ou Null\n",
    "customer_mod = customer.dropna()"
   ]
  },
  {
   "cell_type": "code",
   "execution_count": 73,
   "id": "122dda85",
   "metadata": {},
   "outputs": [
    {
     "data": {
      "text/html": [
       "<div>\n",
       "<style scoped>\n",
       "    .dataframe tbody tr th:only-of-type {\n",
       "        vertical-align: middle;\n",
       "    }\n",
       "\n",
       "    .dataframe tbody tr th {\n",
       "        vertical-align: top;\n",
       "    }\n",
       "\n",
       "    .dataframe thead th {\n",
       "        text-align: right;\n",
       "    }\n",
       "</style>\n",
       "<table border=\"1\" class=\"dataframe\">\n",
       "  <thead>\n",
       "    <tr style=\"text-align: right;\">\n",
       "      <th></th>\n",
       "      <th>CustomerID</th>\n",
       "      <th>PersonID</th>\n",
       "      <th>StoreID</th>\n",
       "      <th>TerritoryID</th>\n",
       "      <th>AccountNumber</th>\n",
       "      <th>rowguid</th>\n",
       "      <th>ModifiedDate</th>\n",
       "    </tr>\n",
       "  </thead>\n",
       "  <tbody>\n",
       "    <tr>\n",
       "      <th>19185</th>\n",
       "      <td>29484</td>\n",
       "      <td>291.0</td>\n",
       "      <td>292.0</td>\n",
       "      <td>5</td>\n",
       "      <td>AW00029484</td>\n",
       "      <td>A24C1240-1A8D-427B-91E9-6197F8CF3CAD</td>\n",
       "      <td>2014-09-12 11:15:07.263</td>\n",
       "    </tr>\n",
       "    <tr>\n",
       "      <th>19186</th>\n",
       "      <td>29485</td>\n",
       "      <td>293.0</td>\n",
       "      <td>294.0</td>\n",
       "      <td>4</td>\n",
       "      <td>AW00029485</td>\n",
       "      <td>392AE773-D7EC-48AC-B8D0-6E65B770285C</td>\n",
       "      <td>2014-09-12 11:15:07.263</td>\n",
       "    </tr>\n",
       "    <tr>\n",
       "      <th>19187</th>\n",
       "      <td>29486</td>\n",
       "      <td>295.0</td>\n",
       "      <td>296.0</td>\n",
       "      <td>3</td>\n",
       "      <td>AW00029486</td>\n",
       "      <td>2A5ABA2E-8DB0-4856-A773-21D185F1679E</td>\n",
       "      <td>2014-09-12 11:15:07.263</td>\n",
       "    </tr>\n",
       "    <tr>\n",
       "      <th>19188</th>\n",
       "      <td>29487</td>\n",
       "      <td>297.0</td>\n",
       "      <td>298.0</td>\n",
       "      <td>2</td>\n",
       "      <td>AW00029487</td>\n",
       "      <td>676811A9-9E7F-49AF-BAAC-F6B0B053246E</td>\n",
       "      <td>2014-09-12 11:15:07.263</td>\n",
       "    </tr>\n",
       "    <tr>\n",
       "      <th>19189</th>\n",
       "      <td>29488</td>\n",
       "      <td>299.0</td>\n",
       "      <td>300.0</td>\n",
       "      <td>9</td>\n",
       "      <td>AW00029488</td>\n",
       "      <td>EEEE9A74-EAEE-40E7-B4F7-B45E87CCB5A6</td>\n",
       "      <td>2014-09-12 11:15:07.263</td>\n",
       "    </tr>\n",
       "    <tr>\n",
       "      <th>19190</th>\n",
       "      <td>29489</td>\n",
       "      <td>301.0</td>\n",
       "      <td>302.0</td>\n",
       "      <td>4</td>\n",
       "      <td>AW00029489</td>\n",
       "      <td>C353FE38-6147-40A3-944D-3736F6297B8C</td>\n",
       "      <td>2014-09-12 11:15:07.263</td>\n",
       "    </tr>\n",
       "    <tr>\n",
       "      <th>19191</th>\n",
       "      <td>29490</td>\n",
       "      <td>303.0</td>\n",
       "      <td>304.0</td>\n",
       "      <td>1</td>\n",
       "      <td>AW00029490</td>\n",
       "      <td>7F2D6183-6AEE-4AD1-973D-F45A19B70BF7</td>\n",
       "      <td>2014-09-12 11:15:07.263</td>\n",
       "    </tr>\n",
       "    <tr>\n",
       "      <th>19192</th>\n",
       "      <td>29491</td>\n",
       "      <td>305.0</td>\n",
       "      <td>306.0</td>\n",
       "      <td>5</td>\n",
       "      <td>AW00029491</td>\n",
       "      <td>62A7B13E-8AC5-4612-B97C-B16A90856BDD</td>\n",
       "      <td>2014-09-12 11:15:07.263</td>\n",
       "    </tr>\n",
       "    <tr>\n",
       "      <th>19193</th>\n",
       "      <td>29492</td>\n",
       "      <td>307.0</td>\n",
       "      <td>308.0</td>\n",
       "      <td>3</td>\n",
       "      <td>AW00029492</td>\n",
       "      <td>7A2EB695-B6B9-48D4-BAD2-BD33E8CE8CA1</td>\n",
       "      <td>2014-09-12 11:15:07.263</td>\n",
       "    </tr>\n",
       "    <tr>\n",
       "      <th>19194</th>\n",
       "      <td>29493</td>\n",
       "      <td>309.0</td>\n",
       "      <td>310.0</td>\n",
       "      <td>5</td>\n",
       "      <td>AW00029493</td>\n",
       "      <td>24AD63DE-1E4C-4E27-A9B0-B8C0942630DA</td>\n",
       "      <td>2014-09-12 11:15:07.263</td>\n",
       "    </tr>\n",
       "    <tr>\n",
       "      <th>19195</th>\n",
       "      <td>29494</td>\n",
       "      <td>311.0</td>\n",
       "      <td>312.0</td>\n",
       "      <td>6</td>\n",
       "      <td>AW00029494</td>\n",
       "      <td>66D2DC13-4220-43B8-B2C7-131183CAEC34</td>\n",
       "      <td>2014-09-12 11:15:07.263</td>\n",
       "    </tr>\n",
       "    <tr>\n",
       "      <th>19196</th>\n",
       "      <td>29495</td>\n",
       "      <td>313.0</td>\n",
       "      <td>314.0</td>\n",
       "      <td>8</td>\n",
       "      <td>AW00029495</td>\n",
       "      <td>B6F7FAAC-0212-4972-B7E8-ABABE19F4302</td>\n",
       "      <td>2014-09-12 11:15:07.263</td>\n",
       "    </tr>\n",
       "    <tr>\n",
       "      <th>19197</th>\n",
       "      <td>29496</td>\n",
       "      <td>315.0</td>\n",
       "      <td>316.0</td>\n",
       "      <td>4</td>\n",
       "      <td>AW00029496</td>\n",
       "      <td>44E51EC2-9D0B-40CC-B725-1A3E81DF9519</td>\n",
       "      <td>2014-09-12 11:15:07.263</td>\n",
       "    </tr>\n",
       "    <tr>\n",
       "      <th>19198</th>\n",
       "      <td>29497</td>\n",
       "      <td>317.0</td>\n",
       "      <td>318.0</td>\n",
       "      <td>1</td>\n",
       "      <td>AW00029497</td>\n",
       "      <td>EEEF3C65-08F9-49C6-AE12-A2FCDEDACAF5</td>\n",
       "      <td>2014-09-12 11:15:07.263</td>\n",
       "    </tr>\n",
       "    <tr>\n",
       "      <th>19199</th>\n",
       "      <td>29498</td>\n",
       "      <td>319.0</td>\n",
       "      <td>320.0</td>\n",
       "      <td>2</td>\n",
       "      <td>AW00029498</td>\n",
       "      <td>7447847B-3887-4E26-AD3E-5355A6B8852D</td>\n",
       "      <td>2014-09-12 11:15:07.263</td>\n",
       "    </tr>\n",
       "  </tbody>\n",
       "</table>\n",
       "</div>"
      ],
      "text/plain": [
       "       CustomerID  PersonID  StoreID  TerritoryID AccountNumber  \\\n",
       "19185       29484     291.0    292.0            5    AW00029484   \n",
       "19186       29485     293.0    294.0            4    AW00029485   \n",
       "19187       29486     295.0    296.0            3    AW00029486   \n",
       "19188       29487     297.0    298.0            2    AW00029487   \n",
       "19189       29488     299.0    300.0            9    AW00029488   \n",
       "19190       29489     301.0    302.0            4    AW00029489   \n",
       "19191       29490     303.0    304.0            1    AW00029490   \n",
       "19192       29491     305.0    306.0            5    AW00029491   \n",
       "19193       29492     307.0    308.0            3    AW00029492   \n",
       "19194       29493     309.0    310.0            5    AW00029493   \n",
       "19195       29494     311.0    312.0            6    AW00029494   \n",
       "19196       29495     313.0    314.0            8    AW00029495   \n",
       "19197       29496     315.0    316.0            4    AW00029496   \n",
       "19198       29497     317.0    318.0            1    AW00029497   \n",
       "19199       29498     319.0    320.0            2    AW00029498   \n",
       "\n",
       "                                    rowguid             ModifiedDate  \n",
       "19185  A24C1240-1A8D-427B-91E9-6197F8CF3CAD  2014-09-12 11:15:07.263  \n",
       "19186  392AE773-D7EC-48AC-B8D0-6E65B770285C  2014-09-12 11:15:07.263  \n",
       "19187  2A5ABA2E-8DB0-4856-A773-21D185F1679E  2014-09-12 11:15:07.263  \n",
       "19188  676811A9-9E7F-49AF-BAAC-F6B0B053246E  2014-09-12 11:15:07.263  \n",
       "19189  EEEE9A74-EAEE-40E7-B4F7-B45E87CCB5A6  2014-09-12 11:15:07.263  \n",
       "19190  C353FE38-6147-40A3-944D-3736F6297B8C  2014-09-12 11:15:07.263  \n",
       "19191  7F2D6183-6AEE-4AD1-973D-F45A19B70BF7  2014-09-12 11:15:07.263  \n",
       "19192  62A7B13E-8AC5-4612-B97C-B16A90856BDD  2014-09-12 11:15:07.263  \n",
       "19193  7A2EB695-B6B9-48D4-BAD2-BD33E8CE8CA1  2014-09-12 11:15:07.263  \n",
       "19194  24AD63DE-1E4C-4E27-A9B0-B8C0942630DA  2014-09-12 11:15:07.263  \n",
       "19195  66D2DC13-4220-43B8-B2C7-131183CAEC34  2014-09-12 11:15:07.263  \n",
       "19196  B6F7FAAC-0212-4972-B7E8-ABABE19F4302  2014-09-12 11:15:07.263  \n",
       "19197  44E51EC2-9D0B-40CC-B725-1A3E81DF9519  2014-09-12 11:15:07.263  \n",
       "19198  EEEF3C65-08F9-49C6-AE12-A2FCDEDACAF5  2014-09-12 11:15:07.263  \n",
       "19199  7447847B-3887-4E26-AD3E-5355A6B8852D  2014-09-12 11:15:07.263  "
      ]
     },
     "execution_count": 73,
     "metadata": {},
     "output_type": "execute_result"
    }
   ],
   "source": [
    "customer_mod.head(15)"
   ]
  },
  {
   "cell_type": "code",
   "execution_count": 75,
   "id": "299c6299",
   "metadata": {},
   "outputs": [
    {
     "data": {
      "text/plain": [
       "(635, 7)"
      ]
     },
     "execution_count": 75,
     "metadata": {},
     "output_type": "execute_result"
    }
   ],
   "source": [
    "#nymero de linhas apos limpeza\n",
    "customer_mod.shape"
   ]
  },
  {
   "cell_type": "code",
   "execution_count": 50,
   "id": "ba7dc81c",
   "metadata": {},
   "outputs": [
    {
     "data": {
      "text/html": [
       "<div>\n",
       "<style scoped>\n",
       "    .dataframe tbody tr th:only-of-type {\n",
       "        vertical-align: middle;\n",
       "    }\n",
       "\n",
       "    .dataframe tbody tr th {\n",
       "        vertical-align: top;\n",
       "    }\n",
       "\n",
       "    .dataframe thead th {\n",
       "        text-align: right;\n",
       "    }\n",
       "</style>\n",
       "<table border=\"1\" class=\"dataframe\">\n",
       "  <thead>\n",
       "    <tr style=\"text-align: right;\">\n",
       "      <th></th>\n",
       "      <th>CustomerID</th>\n",
       "      <th>TerritoryID</th>\n",
       "    </tr>\n",
       "  </thead>\n",
       "  <tbody>\n",
       "    <tr>\n",
       "      <th>count</th>\n",
       "      <td>19820.000000</td>\n",
       "      <td>19820.000000</td>\n",
       "    </tr>\n",
       "    <tr>\n",
       "      <th>mean</th>\n",
       "      <td>19844.277094</td>\n",
       "      <td>5.824975</td>\n",
       "    </tr>\n",
       "    <tr>\n",
       "      <th>std</th>\n",
       "      <td>6581.785914</td>\n",
       "      <td>3.042676</td>\n",
       "    </tr>\n",
       "    <tr>\n",
       "      <th>min</th>\n",
       "      <td>1.000000</td>\n",
       "      <td>1.000000</td>\n",
       "    </tr>\n",
       "    <tr>\n",
       "      <th>25%</th>\n",
       "      <td>15253.750000</td>\n",
       "      <td>4.000000</td>\n",
       "    </tr>\n",
       "    <tr>\n",
       "      <th>50%</th>\n",
       "      <td>20208.500000</td>\n",
       "      <td>6.000000</td>\n",
       "    </tr>\n",
       "    <tr>\n",
       "      <th>75%</th>\n",
       "      <td>25163.250000</td>\n",
       "      <td>9.000000</td>\n",
       "    </tr>\n",
       "    <tr>\n",
       "      <th>max</th>\n",
       "      <td>30118.000000</td>\n",
       "      <td>10.000000</td>\n",
       "    </tr>\n",
       "  </tbody>\n",
       "</table>\n",
       "</div>"
      ],
      "text/plain": [
       "         CustomerID   TerritoryID\n",
       "count  19820.000000  19820.000000\n",
       "mean   19844.277094      5.824975\n",
       "std     6581.785914      3.042676\n",
       "min        1.000000      1.000000\n",
       "25%    15253.750000      4.000000\n",
       "50%    20208.500000      6.000000\n",
       "75%    25163.250000      9.000000\n",
       "max    30118.000000     10.000000"
      ]
     },
     "execution_count": 50,
     "metadata": {},
     "output_type": "execute_result"
    }
   ],
   "source": [
    "#informacoes estatisticas dos dados\n",
    "customer.describe()"
   ]
  },
  {
   "cell_type": "code",
   "execution_count": 76,
   "id": "2c9e6f6e",
   "metadata": {},
   "outputs": [],
   "source": [
    "#salvando dados manipulados em outro dataset\n",
    "customer_mod.to_csv('dados_manipulados/customer_dados_manipulados.csv', index=False)"
   ]
  },
  {
   "cell_type": "code",
   "execution_count": null,
   "id": "1ea17b76",
   "metadata": {},
   "outputs": [],
   "source": []
  }
 ],
 "metadata": {
  "kernelspec": {
   "display_name": "Python 3 (ipykernel)",
   "language": "python",
   "name": "python3"
  },
  "language_info": {
   "codemirror_mode": {
    "name": "ipython",
    "version": 3
   },
   "file_extension": ".py",
   "mimetype": "text/x-python",
   "name": "python",
   "nbconvert_exporter": "python",
   "pygments_lexer": "ipython3",
   "version": "3.8.10"
  }
 },
 "nbformat": 4,
 "nbformat_minor": 5
}
