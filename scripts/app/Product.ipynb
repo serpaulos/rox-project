{
 "cells": [
  {
   "cell_type": "code",
   "execution_count": 1,
   "id": "d27c43f0",
   "metadata": {},
   "outputs": [],
   "source": [
    "import pandas as pd"
   ]
  },
  {
   "cell_type": "code",
   "execution_count": 10,
   "id": "a8c7f87a",
   "metadata": {},
   "outputs": [],
   "source": [
    "#gravando arquivo em um dataframe\n",
    "Product = pd.read_csv('dados_originais/Production.Product.csv',sep=';')"
   ]
  },
  {
   "cell_type": "code",
   "execution_count": 11,
   "id": "2fa2ec10",
   "metadata": {},
   "outputs": [
    {
     "data": {
      "text/plain": [
       "ProductID                  int64\n",
       "Name                      object\n",
       "ProductNumber             object\n",
       "MakeFlag                   int64\n",
       "FinishedGoodsFlag          int64\n",
       "Color                     object\n",
       "SafetyStockLevel           int64\n",
       "ReorderPoint               int64\n",
       "StandardCost              object\n",
       "ListPrice                 object\n",
       "Size                      object\n",
       "SizeUnitMeasureCode       object\n",
       "WeightUnitMeasureCode     object\n",
       "Weight                   float64\n",
       "DaysToManufacture          int64\n",
       "ProductLine               object\n",
       "Class                     object\n",
       "Style                     object\n",
       "ProductSubcategoryID     float64\n",
       "ProductModelID           float64\n",
       "SellStartDate             object\n",
       "SellEndDate               object\n",
       "DiscontinuedDate         float64\n",
       "rowguid                   object\n",
       "ModifiedDate              object\n",
       "dtype: object"
      ]
     },
     "execution_count": 11,
     "metadata": {},
     "output_type": "execute_result"
    }
   ],
   "source": [
    "#verificando os tipos de dados\n",
    "Product.dtypes"
   ]
  },
  {
   "cell_type": "code",
   "execution_count": 12,
   "id": "108d5452",
   "metadata": {},
   "outputs": [
    {
     "data": {
      "text/plain": [
       "(504, 25)"
      ]
     },
     "execution_count": 12,
     "metadata": {},
     "output_type": "execute_result"
    }
   ],
   "source": [
    "#quantidade de linhas e colunas\n",
    "Product.shape"
   ]
  },
  {
   "cell_type": "code",
   "execution_count": 13,
   "id": "6296c1e0",
   "metadata": {},
   "outputs": [
    {
     "data": {
      "text/plain": [
       "ProductID                  0\n",
       "Name                       0\n",
       "ProductNumber              0\n",
       "MakeFlag                   0\n",
       "FinishedGoodsFlag          0\n",
       "Color                    248\n",
       "SafetyStockLevel           0\n",
       "ReorderPoint               0\n",
       "StandardCost               0\n",
       "ListPrice                  0\n",
       "Size                     293\n",
       "SizeUnitMeasureCode      328\n",
       "WeightUnitMeasureCode    299\n",
       "Weight                   299\n",
       "DaysToManufacture          0\n",
       "ProductLine              226\n",
       "Class                    257\n",
       "Style                    293\n",
       "ProductSubcategoryID     209\n",
       "ProductModelID           209\n",
       "SellStartDate              0\n",
       "SellEndDate              406\n",
       "DiscontinuedDate         504\n",
       "rowguid                    0\n",
       "ModifiedDate               0\n",
       "dtype: int64"
      ]
     },
     "execution_count": 13,
     "metadata": {},
     "output_type": "execute_result"
    }
   ],
   "source": [
    "#Verificando se ha valores nan\n",
    "Product.isna().sum()"
   ]
  },
  {
   "cell_type": "code",
   "execution_count": 6,
   "id": "353cd34f",
   "metadata": {},
   "outputs": [
    {
     "data": {
      "text/plain": [
       "ProductID                  0\n",
       "Name                       0\n",
       "ProductNumber              0\n",
       "MakeFlag                   0\n",
       "FinishedGoodsFlag          0\n",
       "Color                    248\n",
       "SafetyStockLevel           0\n",
       "ReorderPoint               0\n",
       "StandardCost               0\n",
       "ListPrice                  0\n",
       "Size                     293\n",
       "SizeUnitMeasureCode      328\n",
       "WeightUnitMeasureCode    299\n",
       "Weight                   299\n",
       "DaysToManufacture          0\n",
       "ProductLine              226\n",
       "Class                    257\n",
       "Style                    293\n",
       "ProductSubcategoryID     209\n",
       "ProductModelID           209\n",
       "SellStartDate              0\n",
       "SellEndDate              406\n",
       "DiscontinuedDate         504\n",
       "rowguid                    0\n",
       "ModifiedDate               0\n",
       "dtype: int64"
      ]
     },
     "execution_count": 6,
     "metadata": {},
     "output_type": "execute_result"
    }
   ],
   "source": [
    "#Verificando se ha valores nulos\n",
    "Product.isnull().sum()"
   ]
  },
  {
   "cell_type": "code",
   "execution_count": 7,
   "id": "4889292f",
   "metadata": {},
   "outputs": [],
   "source": [
    "#trocando valores NaN por Nulos\n",
    "Product = Product.fillna('Null')"
   ]
  },
  {
   "cell_type": "code",
   "execution_count": 8,
   "id": "ba7dc81c",
   "metadata": {},
   "outputs": [
    {
     "data": {
      "text/html": [
       "<div>\n",
       "<style scoped>\n",
       "    .dataframe tbody tr th:only-of-type {\n",
       "        vertical-align: middle;\n",
       "    }\n",
       "\n",
       "    .dataframe tbody tr th {\n",
       "        vertical-align: top;\n",
       "    }\n",
       "\n",
       "    .dataframe thead th {\n",
       "        text-align: right;\n",
       "    }\n",
       "</style>\n",
       "<table border=\"1\" class=\"dataframe\">\n",
       "  <thead>\n",
       "    <tr style=\"text-align: right;\">\n",
       "      <th></th>\n",
       "      <th>ProductID</th>\n",
       "      <th>MakeFlag</th>\n",
       "      <th>FinishedGoodsFlag</th>\n",
       "      <th>SafetyStockLevel</th>\n",
       "      <th>ReorderPoint</th>\n",
       "      <th>DaysToManufacture</th>\n",
       "    </tr>\n",
       "  </thead>\n",
       "  <tbody>\n",
       "    <tr>\n",
       "      <th>count</th>\n",
       "      <td>504.000000</td>\n",
       "      <td>504.000000</td>\n",
       "      <td>504.000000</td>\n",
       "      <td>504.000000</td>\n",
       "      <td>504.000000</td>\n",
       "      <td>504.000000</td>\n",
       "    </tr>\n",
       "    <tr>\n",
       "      <th>mean</th>\n",
       "      <td>673.039683</td>\n",
       "      <td>0.474206</td>\n",
       "      <td>0.585317</td>\n",
       "      <td>535.150794</td>\n",
       "      <td>401.363095</td>\n",
       "      <td>1.103175</td>\n",
       "    </tr>\n",
       "    <tr>\n",
       "      <th>std</th>\n",
       "      <td>229.373142</td>\n",
       "      <td>0.499830</td>\n",
       "      <td>0.493157</td>\n",
       "      <td>374.112954</td>\n",
       "      <td>280.584715</td>\n",
       "      <td>1.492616</td>\n",
       "    </tr>\n",
       "    <tr>\n",
       "      <th>min</th>\n",
       "      <td>1.000000</td>\n",
       "      <td>0.000000</td>\n",
       "      <td>0.000000</td>\n",
       "      <td>4.000000</td>\n",
       "      <td>3.000000</td>\n",
       "      <td>0.000000</td>\n",
       "    </tr>\n",
       "    <tr>\n",
       "      <th>25%</th>\n",
       "      <td>447.750000</td>\n",
       "      <td>0.000000</td>\n",
       "      <td>0.000000</td>\n",
       "      <td>100.000000</td>\n",
       "      <td>75.000000</td>\n",
       "      <td>0.000000</td>\n",
       "    </tr>\n",
       "    <tr>\n",
       "      <th>50%</th>\n",
       "      <td>747.500000</td>\n",
       "      <td>0.000000</td>\n",
       "      <td>1.000000</td>\n",
       "      <td>500.000000</td>\n",
       "      <td>375.000000</td>\n",
       "      <td>1.000000</td>\n",
       "    </tr>\n",
       "    <tr>\n",
       "      <th>75%</th>\n",
       "      <td>873.250000</td>\n",
       "      <td>1.000000</td>\n",
       "      <td>1.000000</td>\n",
       "      <td>1000.000000</td>\n",
       "      <td>750.000000</td>\n",
       "      <td>1.000000</td>\n",
       "    </tr>\n",
       "    <tr>\n",
       "      <th>max</th>\n",
       "      <td>999.000000</td>\n",
       "      <td>1.000000</td>\n",
       "      <td>1.000000</td>\n",
       "      <td>1000.000000</td>\n",
       "      <td>750.000000</td>\n",
       "      <td>4.000000</td>\n",
       "    </tr>\n",
       "  </tbody>\n",
       "</table>\n",
       "</div>"
      ],
      "text/plain": [
       "        ProductID    MakeFlag  FinishedGoodsFlag  SafetyStockLevel  \\\n",
       "count  504.000000  504.000000         504.000000        504.000000   \n",
       "mean   673.039683    0.474206           0.585317        535.150794   \n",
       "std    229.373142    0.499830           0.493157        374.112954   \n",
       "min      1.000000    0.000000           0.000000          4.000000   \n",
       "25%    447.750000    0.000000           0.000000        100.000000   \n",
       "50%    747.500000    0.000000           1.000000        500.000000   \n",
       "75%    873.250000    1.000000           1.000000       1000.000000   \n",
       "max    999.000000    1.000000           1.000000       1000.000000   \n",
       "\n",
       "       ReorderPoint  DaysToManufacture  \n",
       "count    504.000000         504.000000  \n",
       "mean     401.363095           1.103175  \n",
       "std      280.584715           1.492616  \n",
       "min        3.000000           0.000000  \n",
       "25%       75.000000           0.000000  \n",
       "50%      375.000000           1.000000  \n",
       "75%      750.000000           1.000000  \n",
       "max      750.000000           4.000000  "
      ]
     },
     "execution_count": 8,
     "metadata": {},
     "output_type": "execute_result"
    }
   ],
   "source": [
    "#informacoes estatisticas dos dados\n",
    "Product.describe()"
   ]
  },
  {
   "cell_type": "code",
   "execution_count": 9,
   "id": "2c9e6f6e",
   "metadata": {},
   "outputs": [],
   "source": [
    "#salvando dados manipulados em outro dataset\n",
    "Product.to_csv('dados_manipulados/Product_dados_manipulados.csv', index=False)"
   ]
  },
  {
   "cell_type": "code",
   "execution_count": null,
   "id": "1ea17b76",
   "metadata": {},
   "outputs": [],
   "source": []
  }
 ],
 "metadata": {
  "kernelspec": {
   "display_name": "Python 3 (ipykernel)",
   "language": "python",
   "name": "python3"
  },
  "language_info": {
   "codemirror_mode": {
    "name": "ipython",
    "version": 3
   },
   "file_extension": ".py",
   "mimetype": "text/x-python",
   "name": "python",
   "nbconvert_exporter": "python",
   "pygments_lexer": "ipython3",
   "version": "3.8.10"
  }
 },
 "nbformat": 4,
 "nbformat_minor": 5
}
