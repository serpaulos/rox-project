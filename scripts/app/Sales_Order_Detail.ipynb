{
 "cells": [
  {
   "cell_type": "code",
   "execution_count": 1,
   "id": "d27c43f0",
   "metadata": {},
   "outputs": [],
   "source": [
    "import pandas as pd"
   ]
  },
  {
   "cell_type": "code",
   "execution_count": 12,
   "id": "a8c7f87a",
   "metadata": {},
   "outputs": [],
   "source": [
    "#gravando arquivo em um dataframe\n",
    "SalesOrderDetail = pd.read_csv('dados_originais/Sales.SalesOrderDetail.csv',sep=';')"
   ]
  },
  {
   "cell_type": "code",
   "execution_count": 13,
   "id": "2fa2ec10",
   "metadata": {},
   "outputs": [
    {
     "data": {
      "text/plain": [
       "SalesOrderID               int64\n",
       "SalesOrderDetailID         int64\n",
       "CarrierTrackingNumber     object\n",
       "OrderQty                   int64\n",
       "ProductID                  int64\n",
       "SpecialOfferID             int64\n",
       "UnitPrice                 object\n",
       "UnitPriceDiscount         object\n",
       "LineTotal                float64\n",
       "rowguid                   object\n",
       "ModifiedDate              object\n",
       "dtype: object"
      ]
     },
     "execution_count": 13,
     "metadata": {},
     "output_type": "execute_result"
    }
   ],
   "source": [
    "#verificando os tipos de dados\n",
    "SalesOrderDetail.dtypes"
   ]
  },
  {
   "cell_type": "code",
   "execution_count": 14,
   "id": "108d5452",
   "metadata": {},
   "outputs": [
    {
     "data": {
      "text/plain": [
       "(121317, 11)"
      ]
     },
     "execution_count": 14,
     "metadata": {},
     "output_type": "execute_result"
    }
   ],
   "source": [
    "#quantidade de linhas e colunas\n",
    "SalesOrderDetail.shape"
   ]
  },
  {
   "cell_type": "code",
   "execution_count": 15,
   "id": "6296c1e0",
   "metadata": {},
   "outputs": [
    {
     "data": {
      "text/plain": [
       "SalesOrderID                 0\n",
       "SalesOrderDetailID           0\n",
       "CarrierTrackingNumber    60398\n",
       "OrderQty                     0\n",
       "ProductID                    0\n",
       "SpecialOfferID               0\n",
       "UnitPrice                    0\n",
       "UnitPriceDiscount            0\n",
       "LineTotal                    0\n",
       "rowguid                      0\n",
       "ModifiedDate                 0\n",
       "dtype: int64"
      ]
     },
     "execution_count": 15,
     "metadata": {},
     "output_type": "execute_result"
    }
   ],
   "source": [
    "#Verificando se ha valores nan\n",
    "SalesOrderDetail.isna().sum()"
   ]
  },
  {
   "cell_type": "code",
   "execution_count": 6,
   "id": "353cd34f",
   "metadata": {},
   "outputs": [
    {
     "data": {
      "text/plain": [
       "SalesOrderID                 0\n",
       "SalesOrderDetailID           0\n",
       "CarrierTrackingNumber    60398\n",
       "OrderQty                     0\n",
       "ProductID                    0\n",
       "SpecialOfferID               0\n",
       "UnitPrice                    0\n",
       "UnitPriceDiscount            0\n",
       "LineTotal                    0\n",
       "rowguid                      0\n",
       "ModifiedDate                 0\n",
       "dtype: int64"
      ]
     },
     "execution_count": 6,
     "metadata": {},
     "output_type": "execute_result"
    }
   ],
   "source": [
    "#Verificando se ha valores nulos\n",
    "SalesOrderDetail.isnull().sum()"
   ]
  },
  {
   "cell_type": "code",
   "execution_count": 17,
   "id": "4889292f",
   "metadata": {},
   "outputs": [],
   "source": [
    "#trocando valores NaN por Nulos\n",
    "SalesOrderDetail = SalesOrderDetail.fillna('Null')"
   ]
  },
  {
   "cell_type": "code",
   "execution_count": 8,
   "id": "ba7dc81c",
   "metadata": {},
   "outputs": [
    {
     "data": {
      "text/html": [
       "<div>\n",
       "<style scoped>\n",
       "    .dataframe tbody tr th:only-of-type {\n",
       "        vertical-align: middle;\n",
       "    }\n",
       "\n",
       "    .dataframe tbody tr th {\n",
       "        vertical-align: top;\n",
       "    }\n",
       "\n",
       "    .dataframe thead th {\n",
       "        text-align: right;\n",
       "    }\n",
       "</style>\n",
       "<table border=\"1\" class=\"dataframe\">\n",
       "  <thead>\n",
       "    <tr style=\"text-align: right;\">\n",
       "      <th></th>\n",
       "      <th>SalesOrderID</th>\n",
       "      <th>SalesOrderDetailID</th>\n",
       "      <th>OrderQty</th>\n",
       "      <th>ProductID</th>\n",
       "      <th>SpecialOfferID</th>\n",
       "      <th>LineTotal</th>\n",
       "    </tr>\n",
       "  </thead>\n",
       "  <tbody>\n",
       "    <tr>\n",
       "      <th>count</th>\n",
       "      <td>121317.000000</td>\n",
       "      <td>121317.000000</td>\n",
       "      <td>121317.000000</td>\n",
       "      <td>121317.000000</td>\n",
       "      <td>121317.000000</td>\n",
       "      <td>121317.000000</td>\n",
       "    </tr>\n",
       "    <tr>\n",
       "      <th>mean</th>\n",
       "      <td>57827.363782</td>\n",
       "      <td>60659.000000</td>\n",
       "      <td>2.266080</td>\n",
       "      <td>841.680836</td>\n",
       "      <td>1.162541</td>\n",
       "      <td>905.449207</td>\n",
       "    </tr>\n",
       "    <tr>\n",
       "      <th>std</th>\n",
       "      <td>9009.147902</td>\n",
       "      <td>35021.345641</td>\n",
       "      <td>2.491323</td>\n",
       "      <td>86.452124</td>\n",
       "      <td>1.218604</td>\n",
       "      <td>1693.417389</td>\n",
       "    </tr>\n",
       "    <tr>\n",
       "      <th>min</th>\n",
       "      <td>43659.000000</td>\n",
       "      <td>1.000000</td>\n",
       "      <td>1.000000</td>\n",
       "      <td>707.000000</td>\n",
       "      <td>1.000000</td>\n",
       "      <td>1.374000</td>\n",
       "    </tr>\n",
       "    <tr>\n",
       "      <th>25%</th>\n",
       "      <td>49884.000000</td>\n",
       "      <td>30330.000000</td>\n",
       "      <td>1.000000</td>\n",
       "      <td>768.000000</td>\n",
       "      <td>1.000000</td>\n",
       "      <td>24.990000</td>\n",
       "    </tr>\n",
       "    <tr>\n",
       "      <th>50%</th>\n",
       "      <td>57029.000000</td>\n",
       "      <td>60659.000000</td>\n",
       "      <td>1.000000</td>\n",
       "      <td>863.000000</td>\n",
       "      <td>1.000000</td>\n",
       "      <td>134.982000</td>\n",
       "    </tr>\n",
       "    <tr>\n",
       "      <th>75%</th>\n",
       "      <td>65490.000000</td>\n",
       "      <td>90988.000000</td>\n",
       "      <td>3.000000</td>\n",
       "      <td>921.000000</td>\n",
       "      <td>1.000000</td>\n",
       "      <td>1120.490000</td>\n",
       "    </tr>\n",
       "    <tr>\n",
       "      <th>max</th>\n",
       "      <td>75123.000000</td>\n",
       "      <td>121317.000000</td>\n",
       "      <td>44.000000</td>\n",
       "      <td>999.000000</td>\n",
       "      <td>16.000000</td>\n",
       "      <td>27893.619000</td>\n",
       "    </tr>\n",
       "  </tbody>\n",
       "</table>\n",
       "</div>"
      ],
      "text/plain": [
       "        SalesOrderID  SalesOrderDetailID       OrderQty      ProductID  \\\n",
       "count  121317.000000       121317.000000  121317.000000  121317.000000   \n",
       "mean    57827.363782        60659.000000       2.266080     841.680836   \n",
       "std      9009.147902        35021.345641       2.491323      86.452124   \n",
       "min     43659.000000            1.000000       1.000000     707.000000   \n",
       "25%     49884.000000        30330.000000       1.000000     768.000000   \n",
       "50%     57029.000000        60659.000000       1.000000     863.000000   \n",
       "75%     65490.000000        90988.000000       3.000000     921.000000   \n",
       "max     75123.000000       121317.000000      44.000000     999.000000   \n",
       "\n",
       "       SpecialOfferID      LineTotal  \n",
       "count   121317.000000  121317.000000  \n",
       "mean         1.162541     905.449207  \n",
       "std          1.218604    1693.417389  \n",
       "min          1.000000       1.374000  \n",
       "25%          1.000000      24.990000  \n",
       "50%          1.000000     134.982000  \n",
       "75%          1.000000    1120.490000  \n",
       "max         16.000000   27893.619000  "
      ]
     },
     "execution_count": 8,
     "metadata": {},
     "output_type": "execute_result"
    }
   ],
   "source": [
    "#informacoes estatisticas dos dados\n",
    "SalesOrderDetail.describe()"
   ]
  },
  {
   "cell_type": "code",
   "execution_count": 18,
   "id": "2c9e6f6e",
   "metadata": {},
   "outputs": [],
   "source": [
    "#salvando dados manipulados em outro dataset\n",
    "SalesOrderDetail.to_csv('dados_manipulados/SalesOrderDetail_dados_manipulados.csv', index=False)"
   ]
  },
  {
   "cell_type": "code",
   "execution_count": null,
   "id": "1ea17b76",
   "metadata": {},
   "outputs": [],
   "source": []
  }
 ],
 "metadata": {
  "kernelspec": {
   "display_name": "Python 3 (ipykernel)",
   "language": "python",
   "name": "python3"
  },
  "language_info": {
   "codemirror_mode": {
    "name": "ipython",
    "version": 3
   },
   "file_extension": ".py",
   "mimetype": "text/x-python",
   "name": "python",
   "nbconvert_exporter": "python",
   "pygments_lexer": "ipython3",
   "version": "3.8.10"
  }
 },
 "nbformat": 4,
 "nbformat_minor": 5
}
