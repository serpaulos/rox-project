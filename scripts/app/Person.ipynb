{
 "cells": [
  {
   "cell_type": "code",
   "execution_count": 1,
   "id": "d27c43f0",
   "metadata": {},
   "outputs": [],
   "source": [
    "import pandas as pd"
   ]
  },
  {
   "cell_type": "code",
   "execution_count": 22,
   "id": "a8c7f87a",
   "metadata": {},
   "outputs": [],
   "source": [
    "#gravando arquivo em um dataframe\n",
    "person = pd.read_csv('dados_originais/Person.Person.csv',sep=';')"
   ]
  },
  {
   "cell_type": "code",
   "execution_count": 5,
   "id": "2fa2ec10",
   "metadata": {},
   "outputs": [
    {
     "data": {
      "text/plain": [
       "BusinessEntityID          int64\n",
       "PersonType               object\n",
       "NameStyle                 int64\n",
       "Title                    object\n",
       "FirstName                object\n",
       "MiddleName               object\n",
       "LastName                 object\n",
       "Suffix                   object\n",
       "EmailPromotion            int64\n",
       "AdditionalContactInfo    object\n",
       "Demographics             object\n",
       "rowguid                  object\n",
       "ModifiedDate             object\n",
       "dtype: object"
      ]
     },
     "execution_count": 5,
     "metadata": {},
     "output_type": "execute_result"
    }
   ],
   "source": [
    "#verificando os tipos de dados\n",
    "person.dtypes"
   ]
  },
  {
   "cell_type": "code",
   "execution_count": 6,
   "id": "108d5452",
   "metadata": {},
   "outputs": [
    {
     "data": {
      "text/plain": [
       "(19972, 13)"
      ]
     },
     "execution_count": 6,
     "metadata": {},
     "output_type": "execute_result"
    }
   ],
   "source": [
    "#quantidade de linhas e colunas\n",
    "person.shape"
   ]
  },
  {
   "cell_type": "code",
   "execution_count": 7,
   "id": "6296c1e0",
   "metadata": {},
   "outputs": [
    {
     "data": {
      "text/plain": [
       "BusinessEntityID             0\n",
       "PersonType                   0\n",
       "NameStyle                    0\n",
       "Title                    18963\n",
       "FirstName                    0\n",
       "MiddleName                8499\n",
       "LastName                     0\n",
       "Suffix                   19919\n",
       "EmailPromotion               0\n",
       "AdditionalContactInfo    19962\n",
       "Demographics                 0\n",
       "rowguid                      0\n",
       "ModifiedDate                 0\n",
       "dtype: int64"
      ]
     },
     "execution_count": 7,
     "metadata": {},
     "output_type": "execute_result"
    }
   ],
   "source": [
    "#Verificando se ha valores nan\n",
    "person.isna().sum()"
   ]
  },
  {
   "cell_type": "code",
   "execution_count": 8,
   "id": "353cd34f",
   "metadata": {},
   "outputs": [
    {
     "data": {
      "text/plain": [
       "BusinessEntityID             0\n",
       "PersonType                   0\n",
       "NameStyle                    0\n",
       "Title                    18963\n",
       "FirstName                    0\n",
       "MiddleName                8499\n",
       "LastName                     0\n",
       "Suffix                   19919\n",
       "EmailPromotion               0\n",
       "AdditionalContactInfo    19962\n",
       "Demographics                 0\n",
       "rowguid                      0\n",
       "ModifiedDate                 0\n",
       "dtype: int64"
      ]
     },
     "execution_count": 8,
     "metadata": {},
     "output_type": "execute_result"
    }
   ],
   "source": [
    "#Verificando se ha valores nulos\n",
    "person.isnull().sum()"
   ]
  },
  {
   "cell_type": "code",
   "execution_count": 10,
   "id": "4889292f",
   "metadata": {},
   "outputs": [],
   "source": [
    "#trocando valores NaN por Nulos\n",
    "person = person.fillna('Null')"
   ]
  },
  {
   "cell_type": "code",
   "execution_count": 18,
   "id": "ba7dc81c",
   "metadata": {},
   "outputs": [
    {
     "data": {
      "text/html": [
       "<div>\n",
       "<style scoped>\n",
       "    .dataframe tbody tr th:only-of-type {\n",
       "        vertical-align: middle;\n",
       "    }\n",
       "\n",
       "    .dataframe tbody tr th {\n",
       "        vertical-align: top;\n",
       "    }\n",
       "\n",
       "    .dataframe thead th {\n",
       "        text-align: right;\n",
       "    }\n",
       "</style>\n",
       "<table border=\"1\" class=\"dataframe\">\n",
       "  <thead>\n",
       "    <tr style=\"text-align: right;\">\n",
       "      <th></th>\n",
       "      <th>BusinessEntityID</th>\n",
       "      <th>NameStyle</th>\n",
       "      <th>EmailPromotion</th>\n",
       "    </tr>\n",
       "  </thead>\n",
       "  <tbody>\n",
       "    <tr>\n",
       "      <th>count</th>\n",
       "      <td>19972.000000</td>\n",
       "      <td>19972.0</td>\n",
       "      <td>19972.000000</td>\n",
       "    </tr>\n",
       "    <tr>\n",
       "      <th>mean</th>\n",
       "      <td>10763.079411</td>\n",
       "      <td>0.0</td>\n",
       "      <td>0.630082</td>\n",
       "    </tr>\n",
       "    <tr>\n",
       "      <th>std</th>\n",
       "      <td>5814.133272</td>\n",
       "      <td>0.0</td>\n",
       "      <td>0.781433</td>\n",
       "    </tr>\n",
       "    <tr>\n",
       "      <th>min</th>\n",
       "      <td>1.000000</td>\n",
       "      <td>0.0</td>\n",
       "      <td>0.000000</td>\n",
       "    </tr>\n",
       "    <tr>\n",
       "      <th>25%</th>\n",
       "      <td>5798.750000</td>\n",
       "      <td>0.0</td>\n",
       "      <td>0.000000</td>\n",
       "    </tr>\n",
       "    <tr>\n",
       "      <th>50%</th>\n",
       "      <td>10791.500000</td>\n",
       "      <td>0.0</td>\n",
       "      <td>0.000000</td>\n",
       "    </tr>\n",
       "    <tr>\n",
       "      <th>75%</th>\n",
       "      <td>15784.250000</td>\n",
       "      <td>0.0</td>\n",
       "      <td>1.000000</td>\n",
       "    </tr>\n",
       "    <tr>\n",
       "      <th>max</th>\n",
       "      <td>20777.000000</td>\n",
       "      <td>0.0</td>\n",
       "      <td>2.000000</td>\n",
       "    </tr>\n",
       "  </tbody>\n",
       "</table>\n",
       "</div>"
      ],
      "text/plain": [
       "       BusinessEntityID  NameStyle  EmailPromotion\n",
       "count      19972.000000    19972.0    19972.000000\n",
       "mean       10763.079411        0.0        0.630082\n",
       "std         5814.133272        0.0        0.781433\n",
       "min            1.000000        0.0        0.000000\n",
       "25%         5798.750000        0.0        0.000000\n",
       "50%        10791.500000        0.0        0.000000\n",
       "75%        15784.250000        0.0        1.000000\n",
       "max        20777.000000        0.0        2.000000"
      ]
     },
     "execution_count": 18,
     "metadata": {},
     "output_type": "execute_result"
    }
   ],
   "source": [
    "#informacoes estatisticas dos dados\n",
    "person.describe()"
   ]
  },
  {
   "cell_type": "code",
   "execution_count": 21,
   "id": "2c9e6f6e",
   "metadata": {},
   "outputs": [],
   "source": [
    "#salvando dados manipulados em outro dataset\n",
    "person.to_csv('dados_manipulados/person_dados_manipulados.csv', header='False', index=False)"
   ]
  },
  {
   "cell_type": "code",
   "execution_count": null,
   "id": "1ea17b76",
   "metadata": {},
   "outputs": [],
   "source": []
  }
 ],
 "metadata": {
  "kernelspec": {
   "display_name": "Python 3 (ipykernel)",
   "language": "python",
   "name": "python3"
  },
  "language_info": {
   "codemirror_mode": {
    "name": "ipython",
    "version": 3
   },
   "file_extension": ".py",
   "mimetype": "text/x-python",
   "name": "python",
   "nbconvert_exporter": "python",
   "pygments_lexer": "ipython3",
   "version": "3.8.10"
  }
 },
 "nbformat": 4,
 "nbformat_minor": 5
}
