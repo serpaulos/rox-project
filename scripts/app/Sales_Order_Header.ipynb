{
 "cells": [
  {
   "cell_type": "code",
   "execution_count": 1,
   "id": "d27c43f0",
   "metadata": {},
   "outputs": [],
   "source": [
    "import pandas as pd"
   ]
  },
  {
   "cell_type": "code",
   "execution_count": 12,
   "id": "a8c7f87a",
   "metadata": {},
   "outputs": [],
   "source": [
    "#gravando arquivo em um dataframe\n",
    "SalesOrderHeader = pd.read_csv('dados_originais/Sales.SalesOrderHeader.csv',sep=';')"
   ]
  },
  {
   "cell_type": "code",
   "execution_count": 13,
   "id": "2fa2ec10",
   "metadata": {},
   "outputs": [
    {
     "data": {
      "text/plain": [
       "SalesOrderID                int64\n",
       "RevisionNumber              int64\n",
       "OrderDate                  object\n",
       "DueDate                    object\n",
       "ShipDate                   object\n",
       "Status                      int64\n",
       "OnlineOrderFlag             int64\n",
       "SalesOrderNumber           object\n",
       "PurchaseOrderNumber        object\n",
       "AccountNumber              object\n",
       "CustomerID                  int64\n",
       "SalesPersonID             float64\n",
       "TerritoryID                 int64\n",
       "BillToAddressID             int64\n",
       "ShipToAddressID             int64\n",
       "ShipMethodID                int64\n",
       "CreditCardID              float64\n",
       "CreditCardApprovalCode     object\n",
       "CurrencyRateID            float64\n",
       "SubTotal                   object\n",
       "TaxAmt                     object\n",
       "Freight                    object\n",
       "TotalDue                   object\n",
       "Comment                   float64\n",
       "rowguid                    object\n",
       "ModifiedDate               object\n",
       "dtype: object"
      ]
     },
     "execution_count": 13,
     "metadata": {},
     "output_type": "execute_result"
    }
   ],
   "source": [
    "#verificando os tipos de dados\n",
    "SalesOrderHeader.dtypes"
   ]
  },
  {
   "cell_type": "code",
   "execution_count": 14,
   "id": "108d5452",
   "metadata": {},
   "outputs": [
    {
     "data": {
      "text/plain": [
       "(31465, 26)"
      ]
     },
     "execution_count": 14,
     "metadata": {},
     "output_type": "execute_result"
    }
   ],
   "source": [
    "#quantidade de linhas e colunas\n",
    "SalesOrderHeader.shape"
   ]
  },
  {
   "cell_type": "code",
   "execution_count": 5,
   "id": "6296c1e0",
   "metadata": {},
   "outputs": [
    {
     "data": {
      "text/plain": [
       "SalesOrderID                  0\n",
       "RevisionNumber                0\n",
       "OrderDate                     0\n",
       "DueDate                       0\n",
       "ShipDate                      0\n",
       "Status                        0\n",
       "OnlineOrderFlag               0\n",
       "SalesOrderNumber              0\n",
       "PurchaseOrderNumber       27659\n",
       "AccountNumber                 0\n",
       "CustomerID                    0\n",
       "SalesPersonID             27659\n",
       "TerritoryID                   0\n",
       "BillToAddressID               0\n",
       "ShipToAddressID               0\n",
       "ShipMethodID                  0\n",
       "CreditCardID               1131\n",
       "CreditCardApprovalCode     1131\n",
       "CurrencyRateID            17489\n",
       "SubTotal                      0\n",
       "TaxAmt                        0\n",
       "Freight                       0\n",
       "TotalDue                      0\n",
       "Comment                   31465\n",
       "rowguid                       0\n",
       "ModifiedDate                  0\n",
       "dtype: int64"
      ]
     },
     "execution_count": 5,
     "metadata": {},
     "output_type": "execute_result"
    }
   ],
   "source": [
    "#Verificando se ha valores nan\n",
    "SalesOrderHeader.isna().sum()"
   ]
  },
  {
   "cell_type": "code",
   "execution_count": 6,
   "id": "353cd34f",
   "metadata": {},
   "outputs": [
    {
     "data": {
      "text/plain": [
       "SalesOrderID                  0\n",
       "RevisionNumber                0\n",
       "OrderDate                     0\n",
       "DueDate                       0\n",
       "ShipDate                      0\n",
       "Status                        0\n",
       "OnlineOrderFlag               0\n",
       "SalesOrderNumber              0\n",
       "PurchaseOrderNumber       27659\n",
       "AccountNumber                 0\n",
       "CustomerID                    0\n",
       "SalesPersonID             27659\n",
       "TerritoryID                   0\n",
       "BillToAddressID               0\n",
       "ShipToAddressID               0\n",
       "ShipMethodID                  0\n",
       "CreditCardID               1131\n",
       "CreditCardApprovalCode     1131\n",
       "CurrencyRateID            17489\n",
       "SubTotal                      0\n",
       "TaxAmt                        0\n",
       "Freight                       0\n",
       "TotalDue                      0\n",
       "Comment                   31465\n",
       "rowguid                       0\n",
       "ModifiedDate                  0\n",
       "dtype: int64"
      ]
     },
     "execution_count": 6,
     "metadata": {},
     "output_type": "execute_result"
    }
   ],
   "source": [
    "#Verificando se ha valores nulos\n",
    "SalesOrderHeader.isnull().sum()"
   ]
  },
  {
   "cell_type": "code",
   "execution_count": 7,
   "id": "4889292f",
   "metadata": {},
   "outputs": [],
   "source": [
    "#trocando valores NaN por Nulos\n",
    "SalesOrderHeader = SalesOrderHeader.fillna('Null')"
   ]
  },
  {
   "cell_type": "code",
   "execution_count": 15,
   "id": "ba7dc81c",
   "metadata": {},
   "outputs": [
    {
     "data": {
      "text/html": [
       "<div>\n",
       "<style scoped>\n",
       "    .dataframe tbody tr th:only-of-type {\n",
       "        vertical-align: middle;\n",
       "    }\n",
       "\n",
       "    .dataframe tbody tr th {\n",
       "        vertical-align: top;\n",
       "    }\n",
       "\n",
       "    .dataframe thead th {\n",
       "        text-align: right;\n",
       "    }\n",
       "</style>\n",
       "<table border=\"1\" class=\"dataframe\">\n",
       "  <thead>\n",
       "    <tr style=\"text-align: right;\">\n",
       "      <th></th>\n",
       "      <th>SalesOrderID</th>\n",
       "      <th>RevisionNumber</th>\n",
       "      <th>Status</th>\n",
       "      <th>OnlineOrderFlag</th>\n",
       "      <th>CustomerID</th>\n",
       "      <th>SalesPersonID</th>\n",
       "      <th>TerritoryID</th>\n",
       "      <th>BillToAddressID</th>\n",
       "      <th>ShipToAddressID</th>\n",
       "      <th>ShipMethodID</th>\n",
       "      <th>CreditCardID</th>\n",
       "      <th>CurrencyRateID</th>\n",
       "      <th>Comment</th>\n",
       "    </tr>\n",
       "  </thead>\n",
       "  <tbody>\n",
       "    <tr>\n",
       "      <th>count</th>\n",
       "      <td>31465.000000</td>\n",
       "      <td>31465.000000</td>\n",
       "      <td>31465.0</td>\n",
       "      <td>31465.000000</td>\n",
       "      <td>31465.000000</td>\n",
       "      <td>3806.000000</td>\n",
       "      <td>31465.000000</td>\n",
       "      <td>31465.000000</td>\n",
       "      <td>31465.000000</td>\n",
       "      <td>31465.000000</td>\n",
       "      <td>30334.000000</td>\n",
       "      <td>13976.000000</td>\n",
       "      <td>0.0</td>\n",
       "    </tr>\n",
       "    <tr>\n",
       "      <th>mean</th>\n",
       "      <td>59391.000000</td>\n",
       "      <td>8.000953</td>\n",
       "      <td>5.0</td>\n",
       "      <td>0.879040</td>\n",
       "      <td>20170.175687</td>\n",
       "      <td>280.607987</td>\n",
       "      <td>6.090768</td>\n",
       "      <td>18263.154426</td>\n",
       "      <td>18249.192563</td>\n",
       "      <td>1.483839</td>\n",
       "      <td>9684.100448</td>\n",
       "      <td>9191.499571</td>\n",
       "      <td>NaN</td>\n",
       "    </tr>\n",
       "    <tr>\n",
       "      <th>std</th>\n",
       "      <td>9083.307446</td>\n",
       "      <td>0.030864</td>\n",
       "      <td>0.0</td>\n",
       "      <td>0.326086</td>\n",
       "      <td>6261.728960</td>\n",
       "      <td>4.846965</td>\n",
       "      <td>2.958119</td>\n",
       "      <td>8210.069158</td>\n",
       "      <td>8218.429263</td>\n",
       "      <td>1.304343</td>\n",
       "      <td>5566.299591</td>\n",
       "      <td>2945.170095</td>\n",
       "      <td>NaN</td>\n",
       "    </tr>\n",
       "    <tr>\n",
       "      <th>min</th>\n",
       "      <td>43659.000000</td>\n",
       "      <td>8.000000</td>\n",
       "      <td>5.0</td>\n",
       "      <td>0.000000</td>\n",
       "      <td>11000.000000</td>\n",
       "      <td>274.000000</td>\n",
       "      <td>1.000000</td>\n",
       "      <td>405.000000</td>\n",
       "      <td>9.000000</td>\n",
       "      <td>1.000000</td>\n",
       "      <td>1.000000</td>\n",
       "      <td>2.000000</td>\n",
       "      <td>NaN</td>\n",
       "    </tr>\n",
       "    <tr>\n",
       "      <th>25%</th>\n",
       "      <td>51525.000000</td>\n",
       "      <td>8.000000</td>\n",
       "      <td>5.0</td>\n",
       "      <td>1.000000</td>\n",
       "      <td>14432.000000</td>\n",
       "      <td>277.000000</td>\n",
       "      <td>4.000000</td>\n",
       "      <td>14080.000000</td>\n",
       "      <td>14063.000000</td>\n",
       "      <td>1.000000</td>\n",
       "      <td>4894.250000</td>\n",
       "      <td>8510.000000</td>\n",
       "      <td>NaN</td>\n",
       "    </tr>\n",
       "    <tr>\n",
       "      <th>50%</th>\n",
       "      <td>59391.000000</td>\n",
       "      <td>8.000000</td>\n",
       "      <td>5.0</td>\n",
       "      <td>1.000000</td>\n",
       "      <td>19452.000000</td>\n",
       "      <td>279.000000</td>\n",
       "      <td>6.000000</td>\n",
       "      <td>19449.000000</td>\n",
       "      <td>19438.000000</td>\n",
       "      <td>1.000000</td>\n",
       "      <td>9719.500000</td>\n",
       "      <td>10074.000000</td>\n",
       "      <td>NaN</td>\n",
       "    </tr>\n",
       "    <tr>\n",
       "      <th>75%</th>\n",
       "      <td>67257.000000</td>\n",
       "      <td>8.000000</td>\n",
       "      <td>5.0</td>\n",
       "      <td>1.000000</td>\n",
       "      <td>25994.000000</td>\n",
       "      <td>284.000000</td>\n",
       "      <td>9.000000</td>\n",
       "      <td>24678.000000</td>\n",
       "      <td>24672.000000</td>\n",
       "      <td>1.000000</td>\n",
       "      <td>14510.750000</td>\n",
       "      <td>11282.000000</td>\n",
       "      <td>NaN</td>\n",
       "    </tr>\n",
       "    <tr>\n",
       "      <th>max</th>\n",
       "      <td>75123.000000</td>\n",
       "      <td>9.000000</td>\n",
       "      <td>5.0</td>\n",
       "      <td>1.000000</td>\n",
       "      <td>30118.000000</td>\n",
       "      <td>290.000000</td>\n",
       "      <td>10.000000</td>\n",
       "      <td>29883.000000</td>\n",
       "      <td>29883.000000</td>\n",
       "      <td>5.000000</td>\n",
       "      <td>19237.000000</td>\n",
       "      <td>12431.000000</td>\n",
       "      <td>NaN</td>\n",
       "    </tr>\n",
       "  </tbody>\n",
       "</table>\n",
       "</div>"
      ],
      "text/plain": [
       "       SalesOrderID  RevisionNumber   Status  OnlineOrderFlag    CustomerID  \\\n",
       "count  31465.000000    31465.000000  31465.0     31465.000000  31465.000000   \n",
       "mean   59391.000000        8.000953      5.0         0.879040  20170.175687   \n",
       "std     9083.307446        0.030864      0.0         0.326086   6261.728960   \n",
       "min    43659.000000        8.000000      5.0         0.000000  11000.000000   \n",
       "25%    51525.000000        8.000000      5.0         1.000000  14432.000000   \n",
       "50%    59391.000000        8.000000      5.0         1.000000  19452.000000   \n",
       "75%    67257.000000        8.000000      5.0         1.000000  25994.000000   \n",
       "max    75123.000000        9.000000      5.0         1.000000  30118.000000   \n",
       "\n",
       "       SalesPersonID   TerritoryID  BillToAddressID  ShipToAddressID  \\\n",
       "count    3806.000000  31465.000000     31465.000000     31465.000000   \n",
       "mean      280.607987      6.090768     18263.154426     18249.192563   \n",
       "std         4.846965      2.958119      8210.069158      8218.429263   \n",
       "min       274.000000      1.000000       405.000000         9.000000   \n",
       "25%       277.000000      4.000000     14080.000000     14063.000000   \n",
       "50%       279.000000      6.000000     19449.000000     19438.000000   \n",
       "75%       284.000000      9.000000     24678.000000     24672.000000   \n",
       "max       290.000000     10.000000     29883.000000     29883.000000   \n",
       "\n",
       "       ShipMethodID  CreditCardID  CurrencyRateID  Comment  \n",
       "count  31465.000000  30334.000000    13976.000000      0.0  \n",
       "mean       1.483839   9684.100448     9191.499571      NaN  \n",
       "std        1.304343   5566.299591     2945.170095      NaN  \n",
       "min        1.000000      1.000000        2.000000      NaN  \n",
       "25%        1.000000   4894.250000     8510.000000      NaN  \n",
       "50%        1.000000   9719.500000    10074.000000      NaN  \n",
       "75%        1.000000  14510.750000    11282.000000      NaN  \n",
       "max        5.000000  19237.000000    12431.000000      NaN  "
      ]
     },
     "execution_count": 15,
     "metadata": {},
     "output_type": "execute_result"
    }
   ],
   "source": [
    "#informacoes estatisticas dos dados\n",
    "SalesOrderHeader.describe()"
   ]
  },
  {
   "cell_type": "code",
   "execution_count": 16,
   "id": "2c9e6f6e",
   "metadata": {},
   "outputs": [],
   "source": [
    "#salvando dados manipulados em outro dataset\n",
    "SalesOrderHeader.to_csv('dados_manipulados/SalesOrderHeader_dados_manipulados.csv', index=False)"
   ]
  },
  {
   "cell_type": "code",
   "execution_count": null,
   "id": "1ea17b76",
   "metadata": {},
   "outputs": [],
   "source": []
  }
 ],
 "metadata": {
  "kernelspec": {
   "display_name": "Python 3 (ipykernel)",
   "language": "python",
   "name": "python3"
  },
  "language_info": {
   "codemirror_mode": {
    "name": "ipython",
    "version": 3
   },
   "file_extension": ".py",
   "mimetype": "text/x-python",
   "name": "python",
   "nbconvert_exporter": "python",
   "pygments_lexer": "ipython3",
   "version": "3.8.10"
  }
 },
 "nbformat": 4,
 "nbformat_minor": 5
}
